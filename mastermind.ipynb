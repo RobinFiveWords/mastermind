{
 "cells": [
  {
   "cell_type": "markdown",
   "id": "72242fd7-0750-40ee-8ed4-755c1df52b1c",
   "metadata": {},
   "source": [
    "# Can I build a neural network to solve Mastermind, and how will it compare with Knuth's algorithm?\n",
    "\n",
    "<div align=\"center\">\n",
    "    <img src=\"https://m.media-amazon.com/images/I/612QbEzSafL._AC_SL1500_.jpg\"\n",
    "         alt=\"Box top from Mastermind game.\"\n",
    "         width=\"400px\"\n",
    "        />\n",
    "</div>"
   ]
  },
  {
   "cell_type": "markdown",
   "id": "1a3a4bd3-812e-4a2d-af1e-f4791cd1a06c",
   "metadata": {},
   "source": [
    "## 2025-05-19: Intro\n",
    "\n",
    "I started using Gemini about a month ago, so although I've never tried to build a neural network, recently I've been thinking more about them. While staring at the <a href=\"https://en.wikipedia.org/wiki/Mastermind_(board_game)\">Mastermind</a> board my kids left out, I started thinking about whether I could build a neural network to solve it. This would be overpowered, of course. While researching the game, I quickly stumbled across Donald Knuth's algorithm, which I immediately stopped reading about so I could think it through and implement it myself.\n",
    "\n",
    "The plan here, I think, is:\n",
    "1. Build a game environment.\n",
    "2. Implement Knuth's algorithm.\n",
    "3. Build a neural network.\n",
    "\n",
    "The game environment should be able to return the latest result or all results; I gather I shouldn't ask my neural network to manage the game's history. I may try to build the neural network myself using NumPy. I just discovered <a href=\"https://www.youtube.com/playlist?list=PLQVvvaa0QuDcjD5BAw2DxE6OF2tius3V3\">this playlist</a>, and I've been meaning to revisit the first few videos of <a href=\"https://www.youtube.com/playlist?list=PLZHQObOWTQDNU6R1_67000Dx_ZCJB-3pi\">3blue1brown's</a> for the ?th time.\n",
    "\n",
    "Initial thoughts for the game environment:\n",
    "\n",
    "```python\n",
    "import random\n",
    "\n",
    "class Mastermind:\n",
    "    def __init__(self, return_history=False, seed=None):\n",
    "        self.secret = None\n",
    "        self.return_history = return_history\n",
    "        self.history = []\n",
    "        self.reset(seed)\n",
    "\n",
    "    def reset(self, seed=None):\n",
    "        if seed is not None:\n",
    "            random.seed(seed)\n",
    "        self.secret = random.choices(range(1, 7), k=4)\n",
    "        self.history.clear()\n",
    "\n",
    "    def step(self, guess):\n",
    "        # score guess; determine how many black and white pegs\n",
    "        # append (guess, score) to history\n",
    "        return self.history[:] if self.return_history else self.history[-1]\n",
    "```\n",
    "\n",
    "Now that I think about it, I'm not sure what data structure I'll need to feed into the neural network. But I can work that out when I get there."
   ]
  }
 ],
 "metadata": {
  "kernelspec": {
   "display_name": "Python 3 (ipykernel)",
   "language": "python",
   "name": "python3"
  },
  "language_info": {
   "codemirror_mode": {
    "name": "ipython",
    "version": 3
   },
   "file_extension": ".py",
   "mimetype": "text/x-python",
   "name": "python",
   "nbconvert_exporter": "python",
   "pygments_lexer": "ipython3",
   "version": "3.11.5"
  }
 },
 "nbformat": 4,
 "nbformat_minor": 5
}
