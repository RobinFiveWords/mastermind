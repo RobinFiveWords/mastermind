{
 "cells": [
  {
   "cell_type": "markdown",
   "id": "72242fd7-0750-40ee-8ed4-755c1df52b1c",
   "metadata": {},
   "source": [
    "# Can I build a neural network to solve Mastermind, and how will it compare with Knuth's algorithm?\n",
    "\n",
    "<div align=\"center\">\n",
    "    <img src=\"https://m.media-amazon.com/images/I/612QbEzSafL._AC_SL1500_.jpg\"\n",
    "         alt=\"Box top from Mastermind game.\"\n",
    "         width=\"400px\"\n",
    "        />\n",
    "</div>"
   ]
  },
  {
   "cell_type": "markdown",
   "id": "1a3a4bd3-812e-4a2d-af1e-f4791cd1a06c",
   "metadata": {},
   "source": [
    "## 2025-05-19: Intro\n",
    "\n",
    "I started using Gemini about a month ago, so although I've never tried to build a neural network, recently I've been thinking more about them. While staring at the <a href=\"https://en.wikipedia.org/wiki/Mastermind_(board_game)\">Mastermind</a> board my kids left out, I started thinking about whether I could build a neural network to solve it. This would be overpowered, of course. While researching the game, I quickly stumbled across Donald Knuth's algorithm, which I immediately stopped reading about so I could think it through and implement it myself.\n",
    "\n",
    "The plan here, I think, is:\n",
    "1. Build a game environment.\n",
    "2. Implement Knuth's algorithm.\n",
    "3. Build a neural network.\n",
    "\n",
    "The game environment should be able to return the latest result or all results; I gather I shouldn't ask my neural network to manage the game's history. I may try to build the neural network myself using NumPy. I just discovered <a href=\"https://www.youtube.com/playlist?list=PLQVvvaa0QuDcjD5BAw2DxE6OF2tius3V3\">this playlist</a>, and I've been meaning to revisit the first few videos of <a href=\"https://www.youtube.com/playlist?list=PLZHQObOWTQDNU6R1_67000Dx_ZCJB-3pi\">3blue1brown's</a> for the ?th time.\n",
    "\n",
    "Initial thoughts for the game environment:\n",
    "\n",
    "```python\n",
    "import random\n",
    "\n",
    "class Mastermind:\n",
    "    def __init__(self, return_history=False, seed=None):\n",
    "        self.secret = None\n",
    "        self.return_history = return_history\n",
    "        self.history = []\n",
    "        self.reset(seed)\n",
    "\n",
    "    def reset(self, seed=None):\n",
    "        if seed is not None:\n",
    "            random.seed(seed)\n",
    "        self.secret = random.choices(range(1, 7), k=4)\n",
    "        self.history.clear()\n",
    "\n",
    "    def step(self, guess):\n",
    "        # score guess; determine how many black and white pegs\n",
    "        # append (guess, score) to history\n",
    "        return self.history[:] if self.return_history else self.history[-1]\n",
    "```\n",
    "\n",
    "Now that I think about it, I'm not sure what data structure I'll need to feed into the neural network. But I can work that out when I get there."
   ]
  },
  {
   "cell_type": "markdown",
   "id": "376ef07c-3f64-40e6-95ed-44b8c52278b0",
   "metadata": {},
   "source": [
    "## 2025-05-20: Game Environment"
   ]
  },
  {
   "cell_type": "code",
   "execution_count": 1,
   "id": "15a6826f-7b4f-479f-8ce4-b00a4bf0fd0f",
   "metadata": {},
   "outputs": [],
   "source": [
    "from collections import Counter\n",
    "import random"
   ]
  },
  {
   "cell_type": "code",
   "execution_count": 2,
   "id": "842c9d9e-0eff-493f-a207-10d0c61ea53a",
   "metadata": {},
   "outputs": [],
   "source": [
    "class Mastermind:\n",
    "    def __init__(self, return_history=False, seed=None):\n",
    "        self.secret = None\n",
    "        self.secret_counts = Counter()\n",
    "        self.return_history = return_history\n",
    "        self.history = []\n",
    "        self.reset(seed)\n",
    "\n",
    "    def reset(self, seed=None):\n",
    "        self.secret_counts.clear()\n",
    "        self.history.clear()\n",
    "        if seed is not None:\n",
    "            random.seed(seed)\n",
    "        self.secret = random.choices(range(1, 7), k=4)\n",
    "        self.secret_counts.update(self.secret)\n",
    "\n",
    "    def step(self, guess):\n",
    "        black = sum(self.secret[i] == guess[i] for i in range(4))\n",
    "        white = sum((self.secret_counts & Counter(guess)).values()) - black\n",
    "        score = (black, white)\n",
    "        self.history.append((guess, score))\n",
    "        return self.history[:] if self.return_history else score"
   ]
  },
  {
   "cell_type": "markdown",
   "id": "35a55618-8926-4ff1-bf1c-82050dce7956",
   "metadata": {},
   "source": [
    "One thing this class doesn't address so far is how to help carry out Knuth's algorithm. For each remaining possible guess $A$, I think I'll need to take each other remaining possible guess $B$ and say, if $B$ were the secret, what score would $A$ receive? And then group the $B$s by that score, and aggregate them to measure $A$'s suitability as the next guess.\n",
    "\n",
    "I'm starting to think that I don't need an actual game environment to carry out Knuth's algorithm.\n",
    "\n",
    "In any case, here's a test run that I solved manually:"
   ]
  },
  {
   "cell_type": "code",
   "execution_count": 3,
   "id": "12542adc-7a0f-4d90-8b75-3af65849ef87",
   "metadata": {},
   "outputs": [],
   "source": [
    "M = Mastermind(seed='first test')"
   ]
  },
  {
   "cell_type": "code",
   "execution_count": 4,
   "id": "ee50f75e-695e-49e0-a1a3-50b78dfb0e5b",
   "metadata": {},
   "outputs": [
    {
     "data": {
      "text/plain": [
       "(0, 2)"
      ]
     },
     "execution_count": 4,
     "metadata": {},
     "output_type": "execute_result"
    }
   ],
   "source": [
    "M.step((1, 2, 3, 4))"
   ]
  },
  {
   "cell_type": "code",
   "execution_count": 5,
   "id": "3c770801-1a22-4fa1-b3ff-f13df37c8a46",
   "metadata": {},
   "outputs": [
    {
     "data": {
      "text/plain": [
       "(0, 3)"
      ]
     },
     "execution_count": 5,
     "metadata": {},
     "output_type": "execute_result"
    }
   ],
   "source": [
    "M.step((2, 4, 5, 6))"
   ]
  },
  {
   "cell_type": "code",
   "execution_count": 6,
   "id": "af82ddad-ba7b-4713-bc5c-915144b81e86",
   "metadata": {},
   "outputs": [
    {
     "data": {
      "text/plain": [
       "(1, 1)"
      ]
     },
     "execution_count": 6,
     "metadata": {},
     "output_type": "execute_result"
    }
   ],
   "source": [
    "M.step((4, 5, 2, 2))"
   ]
  },
  {
   "cell_type": "code",
   "execution_count": 7,
   "id": "b84fdb87-b7d9-4148-aa03-7e2dbad910bb",
   "metadata": {},
   "outputs": [
    {
     "data": {
      "text/plain": [
       "(1, 1)"
      ]
     },
     "execution_count": 7,
     "metadata": {},
     "output_type": "execute_result"
    }
   ],
   "source": [
    "M.step((6, 6, 4, 2))"
   ]
  },
  {
   "cell_type": "code",
   "execution_count": 8,
   "id": "040c9d3a-1b6f-4727-81a2-2970413f0091",
   "metadata": {},
   "outputs": [
    {
     "data": {
      "text/plain": [
       "(0, 3)"
      ]
     },
     "execution_count": 8,
     "metadata": {},
     "output_type": "execute_result"
    }
   ],
   "source": [
    "M.step((6, 1, 2, 5))"
   ]
  },
  {
   "cell_type": "code",
   "execution_count": 9,
   "id": "007487f7-ea50-49c0-ae69-e6f00c6a4ce8",
   "metadata": {},
   "outputs": [
    {
     "data": {
      "text/plain": [
       "(4, 0)"
      ]
     },
     "execution_count": 9,
     "metadata": {},
     "output_type": "execute_result"
    }
   ],
   "source": [
    "M.step((5, 3, 6, 2))"
   ]
  },
  {
   "cell_type": "code",
   "execution_count": 10,
   "id": "b06500c5-5bfa-4ff2-a472-ac3beac0792e",
   "metadata": {},
   "outputs": [
    {
     "data": {
      "text/plain": [
       "6"
      ]
     },
     "execution_count": 10,
     "metadata": {},
     "output_type": "execute_result"
    }
   ],
   "source": [
    "len(M.history)"
   ]
  },
  {
   "cell_type": "markdown",
   "id": "b65e43b5-9802-4444-9623-ce5306bfc571",
   "metadata": {},
   "source": [
    "During my neural network studying, I wondered how many output neurons I should have for Mastermind. I think I should use one-hot encoding, with each possible color of each peg having its own neuron, so I'll have $4 \\times 6 = 24$ output neurons.\n",
    "\n",
    "I'm starting to see a lot of possible issues with the input neurons, though. I could represent each previous guess and score with $4 \\times 6 + 2 \\times 5 = 34$ neurons, and there are a maximum of 9 previous guesses so that's $9 \\times 34 = 306$ input neurons. Maybe that's a lot? But here are some definite concerns:\n",
    "1. Much of the history will be empty/missing. I gather these inputs could be set to zero. Maybe the first layer biases as well?\n",
    "2. The order of previous guesses doesn't matter. I feel that brute-forcing through this would make training exponentially more difficult/expensive. I asked Gemini for some topics to look into: permutation invariance, set processing, aggregation functions and pooling, embedding functions, and deep sets. Among others. I may have picked a project that doesn't lend itself to a simple neural network.\n",
    "3. The different colors are interchangeable. This one, it seems, a neural network may actually be well suited to learn.\n",
    "\n",
    "Also, yes, I know, the `step` method above returns multiple types."
   ]
  }
 ],
 "metadata": {
  "kernelspec": {
   "display_name": "Python 3 (ipykernel)",
   "language": "python",
   "name": "python3"
  },
  "language_info": {
   "codemirror_mode": {
    "name": "ipython",
    "version": 3
   },
   "file_extension": ".py",
   "mimetype": "text/x-python",
   "name": "python",
   "nbconvert_exporter": "python",
   "pygments_lexer": "ipython3",
   "version": "3.11.5"
  }
 },
 "nbformat": 4,
 "nbformat_minor": 5
}
